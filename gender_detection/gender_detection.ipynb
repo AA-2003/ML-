{
 "cells": [
  {
   "cell_type": "code",
   "execution_count": 85,
   "id": "99450f9e",
   "metadata": {},
   "outputs": [],
   "source": [
    "from emoji import emoji_count\n",
    "import numpy as np\n",
    "import pandas as pd \n",
    "from sklearn.feature_extraction.text import TfidfVectorizer\n",
    "from xgboost import XGBClassifier\n",
    "from sklearn.model_selection import train_test_split\n",
    "from sklearn.metrics import classification_report , confusion_matrix\n",
    "from sklearn.model_selection import RandomizedSearchCV\n",
    "from scipy.stats import uniform, randint\n",
    "import seaborn as sns "
   ]
  },
  {
   "cell_type": "markdown",
   "id": "72faaed8",
   "metadata": {},
   "source": [
    "|Column|Description|\n",
    "|:------:|:---:|\n",
    "|gender|Gender (target column)|\n",
    "|age|User's age range|\n",
    "|fullname|Name written on the social network profile |\n",
    "|username|Username|\n",
    "|biography|User's social network biography|\n",
    "|follower_count|Number of followers the user has|\n",
    "|following_count|Number of people following the user|\n",
    "|is_business|Business account|\n",
    "|is_verified|Verified account|\n",
    "|is_private|Private account|"
   ]
  },
  {
   "cell_type": "code",
   "execution_count": 131,
   "id": "7dcb9e87",
   "metadata": {},
   "outputs": [],
   "source": [
    "data = pd.read_csv('data.csv')"
   ]
  },
  {
   "cell_type": "code",
   "execution_count": 3,
   "id": "c5126403",
   "metadata": {},
   "outputs": [
    {
     "data": {
      "text/plain": [
       "(8000, 10)"
      ]
     },
     "execution_count": 3,
     "metadata": {},
     "output_type": "execute_result"
    }
   ],
   "source": [
    "data.shape"
   ]
  },
  {
   "cell_type": "code",
   "execution_count": 10,
   "id": "a164b8b0",
   "metadata": {},
   "outputs": [
    {
     "name": "stdout",
     "output_type": "stream",
     "text": [
      "<class 'pandas.core.frame.DataFrame'>\n",
      "RangeIndex: 8000 entries, 0 to 7999\n",
      "Data columns (total 10 columns):\n",
      " #   Column           Non-Null Count  Dtype  \n",
      "---  ------           --------------  -----  \n",
      " 0   gender           8000 non-null   object \n",
      " 1   age              8000 non-null   int64  \n",
      " 2   fullname         8000 non-null   object \n",
      " 3   username         8000 non-null   object \n",
      " 4   biography        8000 non-null   object \n",
      " 5   follower_count   8000 non-null   float64\n",
      " 6   following_count  8000 non-null   float64\n",
      " 7   is_business      7997 non-null   float64\n",
      " 8   is_verified      8000 non-null   float64\n",
      " 9   is_private       8000 non-null   float64\n",
      "dtypes: float64(5), int64(1), object(4)\n",
      "memory usage: 625.1+ KB\n"
     ]
    }
   ],
   "source": [
    "data.info()"
   ]
  },
  {
   "cell_type": "markdown",
   "id": "23daec54",
   "metadata": {},
   "source": [
    "## preprocessing"
   ]
  },
  {
   "cell_type": "code",
   "execution_count": 64,
   "id": "2917b881",
   "metadata": {},
   "outputs": [
    {
     "data": {
      "text/plain": [
       "<Axes: xlabel='count', ylabel='gender'>"
      ]
     },
     "execution_count": 64,
     "metadata": {},
     "output_type": "execute_result"
    },
    {
     "data": {
      "image/png": "[encoded data removed]",
      "text/plain": [
       "<Figure size 640x480 with 1 Axes>"
      ]
     },
     "metadata": {},
     "output_type": "display_data"
    }
   ],
   "source": [
    "sns.countplot(data.gender)"
   ]
  },
  {
   "cell_type": "code",
   "execution_count": 65,
   "id": "aea272a8",
   "metadata": {},
   "outputs": [
    {
     "data": {
      "text/plain": [
       "gender             0\n",
       "age                0\n",
       "fullname           0\n",
       "username           0\n",
       "biography          0\n",
       "follower_count     0\n",
       "following_count    0\n",
       "is_business        3\n",
       "is_verified        0\n",
       "is_private         0\n",
       "dtype: int64"
      ]
     },
     "execution_count": 65,
     "metadata": {},
     "output_type": "execute_result"
    }
   ],
   "source": [
    "data.isna().sum()"
   ]
  },
  {
   "cell_type": "code",
   "execution_count": 137,
   "id": "1dd9946f",
   "metadata": {},
   "outputs": [],
   "source": [
    "data['fullname'] = data['fullname'].apply(str.lower)\n",
    "data['biography'] = data['biography'].apply(str.lower)"
   ]
  },
  {
   "cell_type": "code",
   "execution_count": 136,
   "id": "7ffa3245",
   "metadata": {},
   "outputs": [
    {
     "data": {
      "text/html": [
       "<div>\n",
       "<style scoped>\n",
       "    .dataframe tbody tr th:only-of-type {\n",
       "        vertical-align: middle;\n",
       "    }\n",
       "\n",
       "    .dataframe tbody tr th {\n",
       "        vertical-align: top;\n",
       "    }\n",
       "\n",
       "    .dataframe thead th {\n",
       "        text-align: right;\n",
       "    }\n",
       "</style>\n",
       "<table border=\"1\" class=\"dataframe\">\n",
       "  <thead>\n",
       "    <tr style=\"text-align: right;\">\n",
       "      <th></th>\n",
       "      <th>gender</th>\n",
       "      <th>age</th>\n",
       "      <th>fullname</th>\n",
       "      <th>username</th>\n",
       "      <th>biography</th>\n",
       "      <th>follower_count</th>\n",
       "      <th>following_count</th>\n",
       "      <th>is_business</th>\n",
       "      <th>is_verified</th>\n",
       "      <th>is_private</th>\n",
       "      <th>bio_lenght</th>\n",
       "      <th>emoji_count</th>\n",
       "    </tr>\n",
       "  </thead>\n",
       "  <tbody>\n",
       "    <tr>\n",
       "      <th>0</th>\n",
       "      <td>man</td>\n",
       "      <td>2</td>\n",
       "      <td>Farshid</td>\n",
       "      <td>mr_gh_farshid</td>\n",
       "      <td>دردا ک در این بادیه بسیار دویدیم...\\nGlory man...</td>\n",
       "      <td>7.380879</td>\n",
       "      <td>1407.0</td>\n",
       "      <td>0.0</td>\n",
       "      <td>0.0</td>\n",
       "      <td>0.0</td>\n",
       "      <td>14</td>\n",
       "      <td>3</td>\n",
       "    </tr>\n",
       "    <tr>\n",
       "      <th>1</th>\n",
       "      <td>woman</td>\n",
       "      <td>2</td>\n",
       "      <td>zahr@72</td>\n",
       "      <td>zahra.roozbahani72</td>\n",
       "      <td>خواهی که زکوچ در امان برگردی\\nباید که به جان ,...</td>\n",
       "      <td>4.219508</td>\n",
       "      <td>501.0</td>\n",
       "      <td>0.0</td>\n",
       "      <td>0.0</td>\n",
       "      <td>0.0</td>\n",
       "      <td>14</td>\n",
       "      <td>0</td>\n",
       "    </tr>\n",
       "    <tr>\n",
       "      <th>2</th>\n",
       "      <td>woman</td>\n",
       "      <td>2</td>\n",
       "      <td>ms farahnaz♥</td>\n",
       "      <td>___lady.farahnazi.__</td>\n",
       "      <td>Having you,  is all I wish for \\nداشتنت، تمامِ...</td>\n",
       "      <td>0.000000</td>\n",
       "      <td>0.0</td>\n",
       "      <td>0.0</td>\n",
       "      <td>0.0</td>\n",
       "      <td>0.0</td>\n",
       "      <td>17</td>\n",
       "      <td>8</td>\n",
       "    </tr>\n",
       "    <tr>\n",
       "      <th>3</th>\n",
       "      <td>woman</td>\n",
       "      <td>1</td>\n",
       "      <td>Lena.mommy farzan</td>\n",
       "      <td>mommy.lena3361</td>\n",
       "      <td>دردونه من لنا کوچولو</td>\n",
       "      <td>0.000000</td>\n",
       "      <td>0.0</td>\n",
       "      <td>0.0</td>\n",
       "      <td>0.0</td>\n",
       "      <td>0.0</td>\n",
       "      <td>4</td>\n",
       "      <td>0</td>\n",
       "    </tr>\n",
       "    <tr>\n",
       "      <th>4</th>\n",
       "      <td>woman</td>\n",
       "      <td>2</td>\n",
       "      <td>Narsis Asadollahi</td>\n",
       "      <td>_l.aurora.l_</td>\n",
       "      <td>I am an animation student\\n🎧🎼🎨⚓️🤍 \\n@general.m...</td>\n",
       "      <td>5.303305</td>\n",
       "      <td>328.0</td>\n",
       "      <td>0.0</td>\n",
       "      <td>0.0</td>\n",
       "      <td>0.0</td>\n",
       "      <td>7</td>\n",
       "      <td>5</td>\n",
       "    </tr>\n",
       "  </tbody>\n",
       "</table>\n",
       "</div>"
      ],
      "text/plain": [
       "  gender  age           fullname              username  \\\n",
       "0    man    2            Farshid         mr_gh_farshid   \n",
       "1  woman    2            zahr@72    zahra.roozbahani72   \n",
       "2  woman    2       ms farahnaz♥  ___lady.farahnazi.__   \n",
       "3  woman    1  Lena.mommy farzan        mommy.lena3361   \n",
       "4  woman    2  Narsis Asadollahi          _l.aurora.l_   \n",
       "\n",
       "                                           biography  follower_count  \\\n",
       "0  دردا ک در این بادیه بسیار دویدیم...\\nGlory man...        7.380879   \n",
       "1  خواهی که زکوچ در امان برگردی\\nباید که به جان ,...        4.219508   \n",
       "2  Having you,  is all I wish for \\nداشتنت، تمامِ...        0.000000   \n",
       "3                               دردونه من لنا کوچولو        0.000000   \n",
       "4  I am an animation student\\n🎧🎼🎨⚓️🤍 \\n@general.m...        5.303305   \n",
       "\n",
       "   following_count  is_business  is_verified  is_private  bio_lenght  \\\n",
       "0           1407.0          0.0          0.0         0.0          14   \n",
       "1            501.0          0.0          0.0         0.0          14   \n",
       "2              0.0          0.0          0.0         0.0          17   \n",
       "3              0.0          0.0          0.0         0.0           4   \n",
       "4            328.0          0.0          0.0         0.0           7   \n",
       "\n",
       "   emoji_count  \n",
       "0            3  \n",
       "1            0  \n",
       "2            8  \n",
       "3            0  \n",
       "4            5  "
      ]
     },
     "execution_count": 136,
     "metadata": {},
     "output_type": "execute_result"
    }
   ],
   "source": [
    "data['emoji_count'] = data.biography.apply(emoji_count)\n",
    "data.head()"
   ]
  },
  {
   "cell_type": "code",
   "execution_count": 68,
   "id": "2e87fc8d",
   "metadata": {},
   "outputs": [
    {
     "data": {
      "text/plain": [
       "<Axes: xlabel='emoji_count', ylabel='Density'>"
      ]
     },
     "execution_count": 68,
     "metadata": {},
     "output_type": "execute_result"
    },
    {
     "data": {
      "image/png": "[encoded data removed]",
      "text/plain": [
       "<Figure size 640x480 with 1 Axes>"
      ]
     },
     "metadata": {},
     "output_type": "display_data"
    }
   ],
   "source": [
    "sns.kdeplot(data, x='emoji_count', hue='gender' )"
   ]
  },
  {
   "cell_type": "code",
   "execution_count": 135,
   "id": "580a86b2",
   "metadata": {},
   "outputs": [
    {
     "data": {
      "text/plain": [
       "<Axes: xlabel='bio_lenght', ylabel='Density'>"
      ]
     },
     "execution_count": 135,
     "metadata": {},
     "output_type": "execute_result"
    },
    {
     "data": {
      "image/png": "[encoded data removed]",
      "text/plain": [
       "<Figure size 640x480 with 1 Axes>"
      ]
     },
     "metadata": {},
     "output_type": "display_data"
    }
   ],
   "source": [
    "data['bio_lenght']= data.biography.apply(lambda s : len(s.split()))\n",
    "sns.kdeplot(data, x='bio_lenght', hue='gender')"
   ]
  },
  {
   "cell_type": "code",
   "execution_count": 134,
   "id": "9553a036",
   "metadata": {},
   "outputs": [],
   "source": [
    "data.username = data.username.str.replace('(\\d+)','')\n",
    "data.fullname = data.fullname.str.replace('(\\d+)','')"
   ]
  },
  {
   "cell_type": "code",
   "execution_count": 133,
   "id": "dfb322dc",
   "metadata": {},
   "outputs": [],
   "source": [
    "data['follower_count'] = data.follower_count.apply(lambda x : np.log(x+1))"
   ]
  },
  {
   "cell_type": "code",
   "execution_count": 138,
   "id": "57efb439",
   "metadata": {},
   "outputs": [
    {
     "name": "stdout",
     "output_type": "stream",
     "text": [
      "<class 'pandas.core.frame.DataFrame'>\n",
      "RangeIndex: 8000 entries, 0 to 7999\n",
      "Data columns (total 12 columns):\n",
      " #   Column           Non-Null Count  Dtype  \n",
      "---  ------           --------------  -----  \n",
      " 0   gender           8000 non-null   object \n",
      " 1   age              8000 non-null   int64  \n",
      " 2   fullname         8000 non-null   object \n",
      " 3   username         8000 non-null   object \n",
      " 4   biography        8000 non-null   object \n",
      " 5   follower_count   8000 non-null   float64\n",
      " 6   following_count  8000 non-null   float64\n",
      " 7   is_business      7997 non-null   float64\n",
      " 8   is_verified      8000 non-null   float64\n",
      " 9   is_private       8000 non-null   float64\n",
      " 10  bio_lenght       8000 non-null   int64  \n",
      " 11  emoji_count      8000 non-null   int64  \n",
      "dtypes: float64(5), int64(3), object(4)\n",
      "memory usage: 750.1+ KB\n"
     ]
    }
   ],
   "source": [
    "data.info()"
   ]
  },
  {
   "cell_type": "code",
   "execution_count": 72,
   "id": "6fcb5ae2",
   "metadata": {},
   "outputs": [
    {
     "data": {
      "text/html": [
       "<style>#sk-container-id-3 {color: black;background-color: white;}#sk-container-id-3 pre{padding: 0;}#sk-container-id-3 div.sk-toggleable {background-color: white;}#sk-container-id-3 label.sk-toggleable__label {cursor: pointer;display: block;width: 100%;margin-bottom: 0;padding: 0.3em;box-sizing: border-box;text-align: center;}#sk-container-id-3 label.sk-toggleable__label-arrow:before {content: \"▸\";float: left;margin-right: 0.25em;color: #696969;}#sk-container-id-3 label.sk-toggleable__label-arrow:hover:before {color: black;}#sk-container-id-3 div.sk-estimator:hover label.sk-toggleable__label-arrow:before {color: black;}#sk-container-id-3 div.sk-toggleable__content {max-height: 0;max-width: 0;overflow: hidden;text-align: left;background-color: #f0f8ff;}#sk-container-id-3 div.sk-toggleable__content pre {margin: 0.2em;color: black;border-radius: 0.25em;background-color: #f0f8ff;}#sk-container-id-3 input.sk-toggleable__control:checked~div.sk-toggleable__content {max-height: 200px;max-width: 100%;overflow: auto;}#sk-container-id-3 input.sk-toggleable__control:checked~label.sk-toggleable__label-arrow:before {content: \"▾\";}#sk-container-id-3 div.sk-estimator input.sk-toggleable__control:checked~label.sk-toggleable__label {background-color: #d4ebff;}#sk-container-id-3 div.sk-label input.sk-toggleable__control:checked~label.sk-toggleable__label {background-color: #d4ebff;}#sk-container-id-3 input.sk-hidden--visually {border: 0;clip: rect(1px 1px 1px 1px);clip: rect(1px, 1px, 1px, 1px);height: 1px;margin: -1px;overflow: hidden;padding: 0;position: absolute;width: 1px;}#sk-container-id-3 div.sk-estimator {font-family: monospace;background-color: #f0f8ff;border: 1px dotted black;border-radius: 0.25em;box-sizing: border-box;margin-bottom: 0.5em;}#sk-container-id-3 div.sk-estimator:hover {background-color: #d4ebff;}#sk-container-id-3 div.sk-parallel-item::after {content: \"\";width: 100%;border-bottom: 1px solid gray;flex-grow: 1;}#sk-container-id-3 div.sk-label:hover label.sk-toggleable__label {background-color: #d4ebff;}#sk-container-id-3 div.sk-serial::before {content: \"\";position: absolute;border-left: 1px solid gray;box-sizing: border-box;top: 0;bottom: 0;left: 50%;z-index: 0;}#sk-container-id-3 div.sk-serial {display: flex;flex-direction: column;align-items: center;background-color: white;padding-right: 0.2em;padding-left: 0.2em;position: relative;}#sk-container-id-3 div.sk-item {position: relative;z-index: 1;}#sk-container-id-3 div.sk-parallel {display: flex;align-items: stretch;justify-content: center;background-color: white;position: relative;}#sk-container-id-3 div.sk-item::before, #sk-container-id-3 div.sk-parallel-item::before {content: \"\";position: absolute;border-left: 1px solid gray;box-sizing: border-box;top: 0;bottom: 0;left: 50%;z-index: -1;}#sk-container-id-3 div.sk-parallel-item {display: flex;flex-direction: column;z-index: 1;position: relative;background-color: white;}#sk-container-id-3 div.sk-parallel-item:first-child::after {align-self: flex-end;width: 50%;}#sk-container-id-3 div.sk-parallel-item:last-child::after {align-self: flex-start;width: 50%;}#sk-container-id-3 div.sk-parallel-item:only-child::after {width: 0;}#sk-container-id-3 div.sk-dashed-wrapped {border: 1px dashed gray;margin: 0 0.4em 0.5em 0.4em;box-sizing: border-box;padding-bottom: 0.4em;background-color: white;}#sk-container-id-3 div.sk-label label {font-family: monospace;font-weight: bold;display: inline-block;line-height: 1.2em;}#sk-container-id-3 div.sk-label-container {text-align: center;}#sk-container-id-3 div.sk-container {/* jupyter's `normalize.less` sets `[hidden] { display: none; }` but bootstrap.min.css set `[hidden] { display: none !important; }` so we also need the `!important` here to be able to override the default hidden behavior on the sphinx rendered scikit-learn.org. See: https://github.com/scikit-learn/scikit-learn/issues/21755 */display: inline-block !important;position: relative;}#sk-container-id-3 div.sk-text-repr-fallback {display: none;}</style><div id=\"sk-container-id-3\" class=\"sk-top-container\"><div class=\"sk-text-repr-fallback\"><pre>TfidfVectorizer()</pre><b>In a Jupyter environment, please rerun this cell to show the HTML representation or trust the notebook. <br />On GitHub, the HTML representation is unable to render, please try loading this page with nbviewer.org.</b></div><div class=\"sk-container\" hidden><div class=\"sk-item\"><div class=\"sk-estimator sk-toggleable\"><input class=\"sk-toggleable__control sk-hidden--visually\" id=\"sk-estimator-id-3\" type=\"checkbox\" checked><label for=\"sk-estimator-id-3\" class=\"sk-toggleable__label sk-toggleable__label-arrow\">TfidfVectorizer</label><div class=\"sk-toggleable__content\"><pre>TfidfVectorizer()</pre></div></div></div></div></div>"
      ],
      "text/plain": [
       "TfidfVectorizer()"
      ]
     },
     "execution_count": 72,
     "metadata": {},
     "output_type": "execute_result"
    }
   ],
   "source": [
    "tfidf = TfidfVectorizer()\n",
    "tfidf.fit(data.fullname + ' ' + data.username + ' ' + data.biography)"
   ]
  },
  {
   "cell_type": "code",
   "execution_count": 104,
   "id": "456cf72b",
   "metadata": {},
   "outputs": [],
   "source": [
    "train, test = train_test_split(data, stratify=data.gender, test_size=.2)\n",
    "x_train, y_train = train.drop('gender', axis=1), train.gender.map({'man': 0, 'woman': 1})\n",
    "x_test, y_test = test.drop('gender', axis=1), test.gender.map({'man': 0, 'woman': 1})"
   ]
  },
  {
   "cell_type": "code",
   "execution_count": 105,
   "id": "96166f3a",
   "metadata": {},
   "outputs": [
    {
     "data": {
      "text/html": [
       "<style>#sk-container-id-6 {color: black;background-color: white;}#sk-container-id-6 pre{padding: 0;}#sk-container-id-6 div.sk-toggleable {background-color: white;}#sk-container-id-6 label.sk-toggleable__label {cursor: pointer;display: block;width: 100%;margin-bottom: 0;padding: 0.3em;box-sizing: border-box;text-align: center;}#sk-container-id-6 label.sk-toggleable__label-arrow:before {content: \"▸\";float: left;margin-right: 0.25em;color: #696969;}#sk-container-id-6 label.sk-toggleable__label-arrow:hover:before {color: black;}#sk-container-id-6 div.sk-estimator:hover label.sk-toggleable__label-arrow:before {color: black;}#sk-container-id-6 div.sk-toggleable__content {max-height: 0;max-width: 0;overflow: hidden;text-align: left;background-color: #f0f8ff;}#sk-container-id-6 div.sk-toggleable__content pre {margin: 0.2em;color: black;border-radius: 0.25em;background-color: #f0f8ff;}#sk-container-id-6 input.sk-toggleable__control:checked~div.sk-toggleable__content {max-height: 200px;max-width: 100%;overflow: auto;}#sk-container-id-6 input.sk-toggleable__control:checked~label.sk-toggleable__label-arrow:before {content: \"▾\";}#sk-container-id-6 div.sk-estimator input.sk-toggleable__control:checked~label.sk-toggleable__label {background-color: #d4ebff;}#sk-container-id-6 div.sk-label input.sk-toggleable__control:checked~label.sk-toggleable__label {background-color: #d4ebff;}#sk-container-id-6 input.sk-hidden--visually {border: 0;clip: rect(1px 1px 1px 1px);clip: rect(1px, 1px, 1px, 1px);height: 1px;margin: -1px;overflow: hidden;padding: 0;position: absolute;width: 1px;}#sk-container-id-6 div.sk-estimator {font-family: monospace;background-color: #f0f8ff;border: 1px dotted black;border-radius: 0.25em;box-sizing: border-box;margin-bottom: 0.5em;}#sk-container-id-6 div.sk-estimator:hover {background-color: #d4ebff;}#sk-container-id-6 div.sk-parallel-item::after {content: \"\";width: 100%;border-bottom: 1px solid gray;flex-grow: 1;}#sk-container-id-6 div.sk-label:hover label.sk-toggleable__label {background-color: #d4ebff;}#sk-container-id-6 div.sk-serial::before {content: \"\";position: absolute;border-left: 1px solid gray;box-sizing: border-box;top: 0;bottom: 0;left: 50%;z-index: 0;}#sk-container-id-6 div.sk-serial {display: flex;flex-direction: column;align-items: center;background-color: white;padding-right: 0.2em;padding-left: 0.2em;position: relative;}#sk-container-id-6 div.sk-item {position: relative;z-index: 1;}#sk-container-id-6 div.sk-parallel {display: flex;align-items: stretch;justify-content: center;background-color: white;position: relative;}#sk-container-id-6 div.sk-item::before, #sk-container-id-6 div.sk-parallel-item::before {content: \"\";position: absolute;border-left: 1px solid gray;box-sizing: border-box;top: 0;bottom: 0;left: 50%;z-index: -1;}#sk-container-id-6 div.sk-parallel-item {display: flex;flex-direction: column;z-index: 1;position: relative;background-color: white;}#sk-container-id-6 div.sk-parallel-item:first-child::after {align-self: flex-end;width: 50%;}#sk-container-id-6 div.sk-parallel-item:last-child::after {align-self: flex-start;width: 50%;}#sk-container-id-6 div.sk-parallel-item:only-child::after {width: 0;}#sk-container-id-6 div.sk-dashed-wrapped {border: 1px dashed gray;margin: 0 0.4em 0.5em 0.4em;box-sizing: border-box;padding-bottom: 0.4em;background-color: white;}#sk-container-id-6 div.sk-label label {font-family: monospace;font-weight: bold;display: inline-block;line-height: 1.2em;}#sk-container-id-6 div.sk-label-container {text-align: center;}#sk-container-id-6 div.sk-container {/* jupyter's `normalize.less` sets `[hidden] { display: none; }` but bootstrap.min.css set `[hidden] { display: none !important; }` so we also need the `!important` here to be able to override the default hidden behavior on the sphinx rendered scikit-learn.org. See: https://github.com/scikit-learn/scikit-learn/issues/21755 */display: inline-block !important;position: relative;}#sk-container-id-6 div.sk-text-repr-fallback {display: none;}</style><div id=\"sk-container-id-6\" class=\"sk-top-container\"><div class=\"sk-text-repr-fallback\"><pre>XGBClassifier(base_score=0.5, booster=&#x27;gbtree&#x27;, callbacks=None,\n",
       "              colsample_bylevel=1, colsample_bynode=1, colsample_bytree=1,\n",
       "              early_stopping_rounds=None, enable_categorical=False,\n",
       "              eval_metric=None, feature_types=None, gamma=0, gpu_id=-1,\n",
       "              grow_policy=&#x27;depthwise&#x27;, importance_type=None,\n",
       "              interaction_constraints=&#x27;&#x27;, learning_rate=0.300000012,\n",
       "              max_bin=256, max_cat_threshold=64, max_cat_to_onehot=4,\n",
       "              max_delta_step=0, max_depth=6, max_leaves=0, min_child_weight=1,\n",
       "              missing=nan, monotone_constraints=&#x27;()&#x27;, n_estimators=100,\n",
       "              n_jobs=0, num_parallel_tree=1, predictor=&#x27;auto&#x27;, random_state=0, ...)</pre><b>In a Jupyter environment, please rerun this cell to show the HTML representation or trust the notebook. <br />On GitHub, the HTML representation is unable to render, please try loading this page with nbviewer.org.</b></div><div class=\"sk-container\" hidden><div class=\"sk-item\"><div class=\"sk-estimator sk-toggleable\"><input class=\"sk-toggleable__control sk-hidden--visually\" id=\"sk-estimator-id-6\" type=\"checkbox\" checked><label for=\"sk-estimator-id-6\" class=\"sk-toggleable__label sk-toggleable__label-arrow\">XGBClassifier</label><div class=\"sk-toggleable__content\"><pre>XGBClassifier(base_score=0.5, booster=&#x27;gbtree&#x27;, callbacks=None,\n",
       "              colsample_bylevel=1, colsample_bynode=1, colsample_bytree=1,\n",
       "              early_stopping_rounds=None, enable_categorical=False,\n",
       "              eval_metric=None, feature_types=None, gamma=0, gpu_id=-1,\n",
       "              grow_policy=&#x27;depthwise&#x27;, importance_type=None,\n",
       "              interaction_constraints=&#x27;&#x27;, learning_rate=0.300000012,\n",
       "              max_bin=256, max_cat_threshold=64, max_cat_to_onehot=4,\n",
       "              max_delta_step=0, max_depth=6, max_leaves=0, min_child_weight=1,\n",
       "              missing=nan, monotone_constraints=&#x27;()&#x27;, n_estimators=100,\n",
       "              n_jobs=0, num_parallel_tree=1, predictor=&#x27;auto&#x27;, random_state=0, ...)</pre></div></div></div></div></div>"
      ],
      "text/plain": [
       "XGBClassifier(base_score=0.5, booster='gbtree', callbacks=None,\n",
       "              colsample_bylevel=1, colsample_bynode=1, colsample_bytree=1,\n",
       "              early_stopping_rounds=None, enable_categorical=False,\n",
       "              eval_metric=None, feature_types=None, gamma=0, gpu_id=-1,\n",
       "              grow_policy='depthwise', importance_type=None,\n",
       "              interaction_constraints='', learning_rate=0.300000012,\n",
       "              max_bin=256, max_cat_threshold=64, max_cat_to_onehot=4,\n",
       "              max_delta_step=0, max_depth=6, max_leaves=0, min_child_weight=1,\n",
       "              missing=nan, monotone_constraints='()', n_estimators=100,\n",
       "              n_jobs=0, num_parallel_tree=1, predictor='auto', random_state=0, ...)"
      ]
     },
     "execution_count": 105,
     "metadata": {},
     "output_type": "execute_result"
    }
   ],
   "source": [
    "txt_model = XGBClassifier()\n",
    "\n",
    "txt_model.fit(tfidf.transform(x_train.fullname + ' ' + x_train.username + ' ' + x_train.biography), y_train)"
   ]
  },
  {
   "cell_type": "code",
   "execution_count": 106,
   "id": "4b19b233",
   "metadata": {},
   "outputs": [
    {
     "name": "stderr",
     "output_type": "stream",
     "text": [
      "e:\\Courses&Code\\ML_excersice\\env\\lib\\site-packages\\xgboost\\sklearn.py:1421: UserWarning: `use_label_encoder` is deprecated in 1.7.0.\n",
      "  warnings.warn(\"`use_label_encoder` is deprecated in 1.7.0.\")\n",
      "e:\\Courses&Code\\ML_excersice\\env\\lib\\site-packages\\xgboost\\sklearn.py:1421: UserWarning: `use_label_encoder` is deprecated in 1.7.0.\n",
      "  warnings.warn(\"`use_label_encoder` is deprecated in 1.7.0.\")\n",
      "e:\\Courses&Code\\ML_excersice\\env\\lib\\site-packages\\xgboost\\sklearn.py:1421: UserWarning: `use_label_encoder` is deprecated in 1.7.0.\n",
      "  warnings.warn(\"`use_label_encoder` is deprecated in 1.7.0.\")\n"
     ]
    },
    {
     "name": "stdout",
     "output_type": "stream",
     "text": [
      "Fitting 5 folds for each of 50 candidates, totalling 250 fits\n",
      "Best parameters found:  {'colsample_bytree': 0.9210115375059906, 'gamma': 0.19438003399487302, 'learning_rate': 0.09227078101133572, 'max_depth': 9, 'n_estimators': 410, 'reg_alpha': 0.13835309241780136, 'reg_lambda': 0.1327454222429698, 'subsample': 0.9847684335570794}\n",
      "Best cross-validation score:  0.7696875000000001\n",
      "Test set accuracy with best model:  0.781875\n"
     ]
    }
   ],
   "source": [
    "model = XGBClassifier(objective='binary:logistic', eval_metric='logloss', use_label_encoder=False, random_state=42)\n",
    "\n",
    "# Define the parameter distribution for random search\n",
    "param_dist = {\n",
    "    'n_estimators': randint(100, 500),  # Number of trees\n",
    "    'max_depth': randint(7, 15),        # Maximum depth of a tree\n",
    "    'learning_rate': uniform(0.01, 0.2),  # Learning rate\n",
    "    'subsample': uniform(0.5, 0.5),     # Subsample ratio of the training instances\n",
    "    'colsample_bytree': uniform(0.5, 0.5),  # Subsample ratio of columns when constructing each tree\n",
    "    'gamma': uniform(0, 1),             # Minimum loss reduction required to make a split\n",
    "    'reg_alpha': uniform(0, 1),         # L1 regularization term on weights\n",
    "    'reg_lambda': uniform(0, 1)         # L2 regularization term on weights\n",
    "}\n",
    "\n",
    "# Set up RandomizedSearchCV\n",
    "random_search = RandomizedSearchCV(\n",
    "    estimator=model,\n",
    "    param_distributions=param_dist,\n",
    "    n_iter=50,  # Number of parameter settings to sample\n",
    "    scoring='accuracy',  # Metric to evaluate\n",
    "    cv=5,  # Number of cross-validation folds\n",
    "    verbose=1,  # Verbosity level\n",
    "    random_state=42,\n",
    "    n_jobs=-1  # Use all available cores\n",
    ")\n",
    "\n",
    "# Perform the random search\n",
    "random_search.fit(tfidf.transform(x_train.fullname + ' ' + x_train.username + ' ' + x_train.biography), y_train)\n",
    "\n",
    "# Print the best parameters and best score\n",
    "print(\"Best parameters found: \", random_search.best_params_)\n",
    "print(\"Best cross-validation score: \", random_search.best_score_)\n",
    "\n",
    "# Evaluate the best model on the test set\n",
    "txt_model = random_search.best_estimator_\n",
    "test_accuracy = txt_model.score(tfidf.transform(x_test.fullname + ' ' + x_test.username + ' ' + x_test.biography), y_test)\n",
    "print(\"Test set accuracy with best model: \", test_accuracy)"
   ]
  },
  {
   "cell_type": "code",
   "execution_count": 139,
   "id": "51fc6bb9",
   "metadata": {},
   "outputs": [
    {
     "name": "stdout",
     "output_type": "stream",
     "text": [
      "              precision    recall  f1-score   support\n",
      "\n",
      "           0       0.84      0.70      0.76       800\n",
      "           1       0.74      0.86      0.80       800\n",
      "\n",
      "    accuracy                           0.78      1600\n",
      "   macro avg       0.79      0.78      0.78      1600\n",
      "weighted avg       0.79      0.78      0.78      1600\n",
      "\n"
     ]
    }
   ],
   "source": [
    "print(classification_report(y_test, \\\n",
    "                            txt_model.predict(tfidf.transform(x_test.fullname + ' ' + x_test.username + ' ' + x_test.biography))))"
   ]
  },
  {
   "cell_type": "code",
   "execution_count": 140,
   "id": "1c3176f8",
   "metadata": {},
   "outputs": [],
   "source": [
    "gender_by_txt_features =  txt_model.predict(tfidf.transform(data.fullname + ' ' + data.username + ' ' + data.biography))"
   ]
  },
  {
   "cell_type": "code",
   "execution_count": 144,
   "id": "fedededd",
   "metadata": {},
   "outputs": [
    {
     "data": {
      "text/html": [
       "<div>\n",
       "<style scoped>\n",
       "    .dataframe tbody tr th:only-of-type {\n",
       "        vertical-align: middle;\n",
       "    }\n",
       "\n",
       "    .dataframe tbody tr th {\n",
       "        vertical-align: top;\n",
       "    }\n",
       "\n",
       "    .dataframe thead th {\n",
       "        text-align: right;\n",
       "    }\n",
       "</style>\n",
       "<table border=\"1\" class=\"dataframe\">\n",
       "  <thead>\n",
       "    <tr style=\"text-align: right;\">\n",
       "      <th></th>\n",
       "      <th>age</th>\n",
       "      <th>follower_count</th>\n",
       "      <th>is_business</th>\n",
       "      <th>is_verified</th>\n",
       "      <th>is_private</th>\n",
       "      <th>emoji_count</th>\n",
       "      <th>bio_lenght</th>\n",
       "      <th>gender</th>\n",
       "      <th>gender_by_txt</th>\n",
       "    </tr>\n",
       "  </thead>\n",
       "  <tbody>\n",
       "    <tr>\n",
       "      <th>0</th>\n",
       "      <td>2</td>\n",
       "      <td>7.380879</td>\n",
       "      <td>0.0</td>\n",
       "      <td>0.0</td>\n",
       "      <td>0.0</td>\n",
       "      <td>3</td>\n",
       "      <td>14</td>\n",
       "      <td>man</td>\n",
       "      <td>0</td>\n",
       "    </tr>\n",
       "    <tr>\n",
       "      <th>1</th>\n",
       "      <td>2</td>\n",
       "      <td>4.219508</td>\n",
       "      <td>0.0</td>\n",
       "      <td>0.0</td>\n",
       "      <td>0.0</td>\n",
       "      <td>0</td>\n",
       "      <td>14</td>\n",
       "      <td>woman</td>\n",
       "      <td>1</td>\n",
       "    </tr>\n",
       "    <tr>\n",
       "      <th>2</th>\n",
       "      <td>2</td>\n",
       "      <td>0.000000</td>\n",
       "      <td>0.0</td>\n",
       "      <td>0.0</td>\n",
       "      <td>0.0</td>\n",
       "      <td>8</td>\n",
       "      <td>17</td>\n",
       "      <td>woman</td>\n",
       "      <td>1</td>\n",
       "    </tr>\n",
       "    <tr>\n",
       "      <th>3</th>\n",
       "      <td>1</td>\n",
       "      <td>0.000000</td>\n",
       "      <td>0.0</td>\n",
       "      <td>0.0</td>\n",
       "      <td>0.0</td>\n",
       "      <td>0</td>\n",
       "      <td>4</td>\n",
       "      <td>woman</td>\n",
       "      <td>1</td>\n",
       "    </tr>\n",
       "    <tr>\n",
       "      <th>4</th>\n",
       "      <td>2</td>\n",
       "      <td>5.303305</td>\n",
       "      <td>0.0</td>\n",
       "      <td>0.0</td>\n",
       "      <td>0.0</td>\n",
       "      <td>5</td>\n",
       "      <td>7</td>\n",
       "      <td>woman</td>\n",
       "      <td>1</td>\n",
       "    </tr>\n",
       "  </tbody>\n",
       "</table>\n",
       "</div>"
      ],
      "text/plain": [
       "   age  follower_count  is_business  is_verified  is_private  emoji_count  \\\n",
       "0    2        7.380879          0.0          0.0         0.0            3   \n",
       "1    2        4.219508          0.0          0.0         0.0            0   \n",
       "2    2        0.000000          0.0          0.0         0.0            8   \n",
       "3    1        0.000000          0.0          0.0         0.0            0   \n",
       "4    2        5.303305          0.0          0.0         0.0            5   \n",
       "\n",
       "   bio_lenght gender  gender_by_txt  \n",
       "0          14    man              0  \n",
       "1          14  woman              1  \n",
       "2          17  woman              1  \n",
       "3           4  woman              1  \n",
       "4           7  woman              1  "
      ]
     },
     "execution_count": 144,
     "metadata": {},
     "output_type": "execute_result"
    }
   ],
   "source": [
    "df = data.loc[: ,['age', 'follower_count', 'is_business', 'is_verified', 'is_private', 'emoji_count', 'bio_lenght', 'gender']]\n",
    "df.loc[:,'gender_by_txt'] = gender_by_txt_features\n",
    "df.head()"
   ]
  },
  {
   "cell_type": "code",
   "execution_count": 145,
   "id": "a2bd4de3",
   "metadata": {},
   "outputs": [
    {
     "data": {
      "text/html": [
       "<div>\n",
       "<style scoped>\n",
       "    .dataframe tbody tr th:only-of-type {\n",
       "        vertical-align: middle;\n",
       "    }\n",
       "\n",
       "    .dataframe tbody tr th {\n",
       "        vertical-align: top;\n",
       "    }\n",
       "\n",
       "    .dataframe thead th {\n",
       "        text-align: right;\n",
       "    }\n",
       "</style>\n",
       "<table border=\"1\" class=\"dataframe\">\n",
       "  <thead>\n",
       "    <tr style=\"text-align: right;\">\n",
       "      <th></th>\n",
       "      <th>age</th>\n",
       "      <th>follower_count</th>\n",
       "      <th>is_business</th>\n",
       "      <th>is_verified</th>\n",
       "      <th>is_private</th>\n",
       "      <th>emoji_count</th>\n",
       "      <th>bio_lenght</th>\n",
       "      <th>gender</th>\n",
       "      <th>gender_by_txt</th>\n",
       "    </tr>\n",
       "  </thead>\n",
       "  <tbody>\n",
       "    <tr>\n",
       "      <th>0</th>\n",
       "      <td>2</td>\n",
       "      <td>7.380879</td>\n",
       "      <td>0.0</td>\n",
       "      <td>0.0</td>\n",
       "      <td>0.0</td>\n",
       "      <td>3</td>\n",
       "      <td>14</td>\n",
       "      <td>man</td>\n",
       "      <td>0</td>\n",
       "    </tr>\n",
       "    <tr>\n",
       "      <th>1</th>\n",
       "      <td>2</td>\n",
       "      <td>4.219508</td>\n",
       "      <td>0.0</td>\n",
       "      <td>0.0</td>\n",
       "      <td>0.0</td>\n",
       "      <td>0</td>\n",
       "      <td>14</td>\n",
       "      <td>woman</td>\n",
       "      <td>1</td>\n",
       "    </tr>\n",
       "    <tr>\n",
       "      <th>2</th>\n",
       "      <td>2</td>\n",
       "      <td>0.000000</td>\n",
       "      <td>0.0</td>\n",
       "      <td>0.0</td>\n",
       "      <td>0.0</td>\n",
       "      <td>8</td>\n",
       "      <td>17</td>\n",
       "      <td>woman</td>\n",
       "      <td>1</td>\n",
       "    </tr>\n",
       "    <tr>\n",
       "      <th>3</th>\n",
       "      <td>1</td>\n",
       "      <td>0.000000</td>\n",
       "      <td>0.0</td>\n",
       "      <td>0.0</td>\n",
       "      <td>0.0</td>\n",
       "      <td>0</td>\n",
       "      <td>4</td>\n",
       "      <td>woman</td>\n",
       "      <td>1</td>\n",
       "    </tr>\n",
       "    <tr>\n",
       "      <th>4</th>\n",
       "      <td>2</td>\n",
       "      <td>5.303305</td>\n",
       "      <td>0.0</td>\n",
       "      <td>0.0</td>\n",
       "      <td>0.0</td>\n",
       "      <td>5</td>\n",
       "      <td>7</td>\n",
       "      <td>woman</td>\n",
       "      <td>1</td>\n",
       "    </tr>\n",
       "  </tbody>\n",
       "</table>\n",
       "</div>"
      ],
      "text/plain": [
       "   age  follower_count  is_business  is_verified  is_private  emoji_count  \\\n",
       "0    2        7.380879          0.0          0.0         0.0            3   \n",
       "1    2        4.219508          0.0          0.0         0.0            0   \n",
       "2    2        0.000000          0.0          0.0         0.0            8   \n",
       "3    1        0.000000          0.0          0.0         0.0            0   \n",
       "4    2        5.303305          0.0          0.0         0.0            5   \n",
       "\n",
       "   bio_lenght gender  gender_by_txt  \n",
       "0          14    man              0  \n",
       "1          14  woman              1  \n",
       "2          17  woman              1  \n",
       "3           4  woman              1  \n",
       "4           7  woman              1  "
      ]
     },
     "execution_count": 145,
     "metadata": {},
     "output_type": "execute_result"
    }
   ],
   "source": [
    "df.loc[:, 'gender_by_txt'] = df['gender_by_txt'].replace({'woman':0, 'man':1})\n",
    "df.head()"
   ]
  },
  {
   "cell_type": "code",
   "execution_count": 147,
   "id": "36ca8878",
   "metadata": {},
   "outputs": [
    {
     "name": "stdout",
     "output_type": "stream",
     "text": [
      "<class 'pandas.core.frame.DataFrame'>\n",
      "RangeIndex: 8000 entries, 0 to 7999\n",
      "Data columns (total 9 columns):\n",
      " #   Column          Non-Null Count  Dtype  \n",
      "---  ------          --------------  -----  \n",
      " 0   age             8000 non-null   int64  \n",
      " 1   follower_count  8000 non-null   float64\n",
      " 2   is_business     7997 non-null   float64\n",
      " 3   is_verified     8000 non-null   float64\n",
      " 4   is_private      8000 non-null   float64\n",
      " 5   emoji_count     8000 non-null   int64  \n",
      " 6   bio_lenght      8000 non-null   int64  \n",
      " 7   gender          8000 non-null   object \n",
      " 8   gender_by_txt   8000 non-null   int32  \n",
      "dtypes: float64(4), int32(1), int64(3), object(1)\n",
      "memory usage: 531.4+ KB\n"
     ]
    }
   ],
   "source": [
    "df.info()"
   ]
  },
  {
   "cell_type": "code",
   "execution_count": 148,
   "id": "b8e98643",
   "metadata": {},
   "outputs": [],
   "source": [
    "df = df[df['is_business'].notnull()]"
   ]
  },
  {
   "cell_type": "code",
   "execution_count": 149,
   "id": "9da74bfe",
   "metadata": {},
   "outputs": [
    {
     "data": {
      "text/plain": [
       "(7997, 9)"
      ]
     },
     "execution_count": 149,
     "metadata": {},
     "output_type": "execute_result"
    }
   ],
   "source": [
    "df.shape"
   ]
  },
  {
   "cell_type": "code",
   "execution_count": 152,
   "id": "869a0403",
   "metadata": {},
   "outputs": [],
   "source": [
    "train, test = train_test_split(df, stratify=df.gender, test_size=.2)\n",
    "x_train, y_train = train.drop('gender', axis=1), train.gender.map({'man': 0, 'woman': 1})\n",
    "x_test, y_test = test.drop('gender', axis=1), test.gender.map({'man': 0, 'woman': 1})"
   ]
  },
  {
   "cell_type": "code",
   "execution_count": 166,
   "id": "8af72f55",
   "metadata": {},
   "outputs": [
    {
     "name": "stderr",
     "output_type": "stream",
     "text": [
      "e:\\Courses&Code\\ML_excersice\\env\\lib\\site-packages\\xgboost\\sklearn.py:1421: UserWarning: `use_label_encoder` is deprecated in 1.7.0.\n",
      "  warnings.warn(\"`use_label_encoder` is deprecated in 1.7.0.\")\n",
      "e:\\Courses&Code\\ML_excersice\\env\\lib\\site-packages\\xgboost\\sklearn.py:1421: UserWarning: `use_label_encoder` is deprecated in 1.7.0.\n",
      "  warnings.warn(\"`use_label_encoder` is deprecated in 1.7.0.\")\n",
      "e:\\Courses&Code\\ML_excersice\\env\\lib\\site-packages\\xgboost\\sklearn.py:1421: UserWarning: `use_label_encoder` is deprecated in 1.7.0.\n",
      "  warnings.warn(\"`use_label_encoder` is deprecated in 1.7.0.\")\n"
     ]
    },
    {
     "name": "stdout",
     "output_type": "stream",
     "text": [
      "Fitting 5 folds for each of 50 candidates, totalling 250 fits\n",
      "Best parameters found:  {'colsample_bytree': 0.6933676731502687, 'gamma': 0.9367299887367345, 'learning_rate': 0.037504188829198655, 'max_depth': 10, 'n_estimators': 250, 'reg_alpha': 0.5414479738275658, 'reg_lambda': 0.6957843993450822, 'subsample': 0.6142750108986499}\n",
      "Best cross-validation score:  0.8819733434323691\n",
      "Test set accuracy with best model:  0.888125\n"
     ]
    }
   ],
   "source": [
    "model = XGBClassifier(objective='binary:logistic', eval_metric='logloss', use_label_encoder=False, random_state=42)\n",
    "\n",
    "# Define the parameter distribution for random search\n",
    "param_dist = {\n",
    "    'n_estimators': randint(100, 500),  # Number of trees\n",
    "    'max_depth': randint(7, 15),        # Maximum depth of a tree\n",
    "    'learning_rate': uniform(0.01, 0.2),  # Learning rate\n",
    "    'subsample': uniform(0.5, 0.5),     # Subsample ratio of the training instances\n",
    "    'colsample_bytree': uniform(0.5, 0.5),  # Subsample ratio of columns when constructing each tree\n",
    "    'gamma': uniform(0, 1),             # Minimum loss reduction required to make a split\n",
    "    'reg_alpha': uniform(0, 1),         # L1 regularization term on weights\n",
    "    'reg_lambda': uniform(0, 1)         # L2 regularization term on weights\n",
    "}\n",
    "\n",
    "# Set up RandomizedSearchCV\n",
    "random_search = RandomizedSearchCV(\n",
    "    estimator=model,\n",
    "    param_distributions=param_dist,\n",
    "    n_iter=50,  # Number of parameter settings to sample\n",
    "    scoring='accuracy',  # Metric to evaluate\n",
    "    cv=5,  # Number of cross-validation folds\n",
    "    verbose=1,  # Verbosity level\n",
    "    random_state=42,\n",
    "    n_jobs=-1  # Use all available cores\n",
    ")\n",
    "\n",
    "# Perform the random search\n",
    "random_search.fit(x_train, y_train)\n",
    "\n",
    "# Print the best parameters and best score\n",
    "print(\"Best parameters found: \", random_search.best_params_)\n",
    "print(\"Best cross-validation score: \", random_search.best_score_)\n",
    "\n",
    "# Evaluate the best model on the test set\n",
    "final_model = random_search.best_estimator_\n",
    "test_accuracy = final_model.score(x_test, y_test)\n",
    "print(\"Test set accuracy with best model: \", test_accuracy)"
   ]
  },
  {
   "cell_type": "code",
   "execution_count": 167,
   "id": "137cdc55",
   "metadata": {},
   "outputs": [
    {
     "name": "stdout",
     "output_type": "stream",
     "text": [
      "              precision    recall  f1-score   support\n",
      "\n",
      "           0       0.92      0.85      0.88       800\n",
      "           1       0.86      0.93      0.89       800\n",
      "\n",
      "    accuracy                           0.89      1600\n",
      "   macro avg       0.89      0.89      0.89      1600\n",
      "weighted avg       0.89      0.89      0.89      1600\n",
      "\n"
     ]
    }
   ],
   "source": [
    "print(classification_report(y_test, final_model.predict(x_test)))"
   ]
  },
  {
   "cell_type": "code",
   "execution_count": 168,
   "id": "23a6a7b5",
   "metadata": {},
   "outputs": [
    {
     "name": "stdout",
     "output_type": "stream",
     "text": [
      "[[678 122]\n",
      " [ 57 743]]\n"
     ]
    },
    {
     "data": {
      "text/plain": [
       "<Axes: >"
      ]
     },
     "execution_count": 168,
     "metadata": {},
     "output_type": "execute_result"
    },
    {
     "data": {
      "image/png": "[encoded data removed]",
      "text/plain": [
       "<Figure size 640x480 with 2 Axes>"
      ]
     },
     "metadata": {},
     "output_type": "display_data"
    }
   ],
   "source": [
    "cf_matrix = confusion_matrix(y_test, final_model.predict(x_test))\n",
    "print(cf_matrix)\n",
    "sns.heatmap(cf_matrix, annot=True,fmt='4', cmap='Blues')"
   ]
  }
 ],
 "metadata": {
  "kernelspec": {
   "display_name": "env",
   "language": "python",
   "name": "python3"
  },
  "language_info": {
   "codemirror_mode": {
    "name": "ipython",
    "version": 3
   },
   "file_extension": ".py",
   "mimetype": "text/x-python",
   "name": "python",
   "nbconvert_exporter": "python",
   "pygments_lexer": "ipython3",
   "version": "3.9.0"
  }
 },
 "nbformat": 4,
 "nbformat_minor": 5
}
